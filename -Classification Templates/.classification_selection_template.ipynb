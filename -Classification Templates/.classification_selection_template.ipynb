{
  "nbformat": 4,
  "nbformat_minor": 0,
  "metadata": {
    "colab": {
      "name": "classification_selection_template.ipynb",
      "provenance": [],
      "collapsed_sections": []
    },
    "kernelspec": {
      "name": "python3",
      "display_name": "Python 3"
    },
    "language_info": {
      "name": "python"
    }
  },
  "cells": [
    {
      "cell_type": "markdown",
      "metadata": {
        "id": "FC-vlR-PZAyY"
      },
      "source": [
        "\n",
        "# Classification Selection Template"
      ]
    },
    {
      "cell_type": "markdown",
      "metadata": {
        "id": "C3gD6RlJZfKh"
      },
      "source": [
        "# Importing the libraries"
      ]
    },
    {
      "cell_type": "code",
      "metadata": {
        "id": "2Ot048I0ZDoV"
      },
      "source": [
        "import numpy as np\n",
        "import matplotlib.pyplot as plt\n",
        "import pandas as pd\n",
        "from sklearn.metrics import confusion_matrix, accuracy_score"
      ],
      "execution_count": 39,
      "outputs": []
    },
    {
      "cell_type": "markdown",
      "metadata": {
        "id": "8y7w0SQeaFrx"
      },
      "source": [
        "# Importing the dataset"
      ]
    },
    {
      "cell_type": "code",
      "metadata": {
        "id": "Hngew7EtaJAA"
      },
      "source": [
        "dataset = pd.read_csv('Dataset.csv')\n",
        "X = dataset.iloc[:, :-1].values\n",
        "y = dataset.iloc[:, -1].values"
      ],
      "execution_count": 40,
      "outputs": []
    },
    {
      "cell_type": "markdown",
      "metadata": {
        "id": "ObqRc5ZGaNbD"
      },
      "source": [
        "# Splitting the dataset into the Training set and Test set"
      ]
    },
    {
      "cell_type": "code",
      "metadata": {
        "id": "H2zl8Qa7aSQf"
      },
      "source": [
        "from sklearn.model_selection import train_test_split\n",
        "X_train, X_test, y_train, y_test = train_test_split(X, y, test_size = 0.25)"
      ],
      "execution_count": 41,
      "outputs": []
    },
    {
      "cell_type": "markdown",
      "metadata": {
        "id": "g_QIb32UaXI_"
      },
      "source": [
        "# Feature Scaling"
      ]
    },
    {
      "cell_type": "code",
      "metadata": {
        "id": "gpotHLawaZBT"
      },
      "source": [
        "from sklearn.preprocessing import StandardScaler\n",
        "sc = StandardScaler()\n",
        "X_train = sc.fit_transform(X_train)\n",
        "X_test = sc.transform(X_test)"
      ],
      "execution_count": 42,
      "outputs": []
    },
    {
      "cell_type": "markdown",
      "metadata": {
        "id": "G3Uh7jP7al_u"
      },
      "source": [
        "# Logistic Regression"
      ]
    },
    {
      "cell_type": "code",
      "metadata": {
        "id": "CJXBFv31apJs"
      },
      "source": [
        "from sklearn.linear_model import LogisticRegression\n",
        " \n",
        "classifier_log_reg = LogisticRegression()\n",
        "classifier_log_reg.fit(X_train, y_train)\n",
        "y_pred = classifier_log_reg.predict(X_test)\n",
        "cm_log_reg = confusion_matrix(y_test, y_pred)\n",
        "acc_score_log_reg = accuracy_score(y_test, y_pred)"
      ],
      "execution_count": 43,
      "outputs": []
    },
    {
      "cell_type": "markdown",
      "metadata": {
        "id": "t425xnnmavTP"
      },
      "source": [
        "# K-NN"
      ]
    },
    {
      "cell_type": "code",
      "metadata": {
        "id": "ddSGqKAlayUI"
      },
      "source": [
        "from sklearn.neighbors import KNeighborsClassifier\n",
        " \n",
        "classifier_knn = KNeighborsClassifier(n_neighbors = 5, metric = 'minkowski', p = 2)\n",
        "classifier_knn.fit(X_train, y_train)\n",
        "y_pred = classifier_knn.predict(X_test)\n",
        "cm_knn = confusion_matrix(y_test, y_pred)\n",
        "acc_score_knn = accuracy_score(y_test, y_pred)"
      ],
      "execution_count": 44,
      "outputs": []
    },
    {
      "cell_type": "markdown",
      "metadata": {
        "id": "JSdNz4Bra217"
      },
      "source": [
        "# SVM (Linear)"
      ]
    },
    {
      "cell_type": "code",
      "metadata": {
        "id": "6RhF0YmHa7HM"
      },
      "source": [
        "from sklearn.svm import SVC\n",
        " \n",
        "classifier_SVM_lin = SVC(kernel = 'linear')\n",
        "classifier_SVM_lin.fit(X_train, y_train)\n",
        "y_pred = classifier_SVM_lin.predict(X_test)\n",
        "cm_SVM_lin = confusion_matrix(y_test, y_pred)\n",
        "acc_score_SVM_lin = accuracy_score(y_test, y_pred)"
      ],
      "execution_count": 45,
      "outputs": []
    },
    {
      "cell_type": "markdown",
      "metadata": {
        "id": "cnjN-iGOa_dU"
      },
      "source": [
        "# SVM (Kernel)"
      ]
    },
    {
      "cell_type": "code",
      "metadata": {
        "id": "x5Ih0DzQbE7L"
      },
      "source": [
        "from sklearn.svm import SVC\n",
        "\n",
        "classifier_SVM_rbf = SVC(kernel = 'rbf')\n",
        "classifier_SVM_rbf.fit(X_train, y_train)\n",
        "y_pred = classifier_SVM_rbf.predict(X_test)\n",
        "cm_SVM_rbf = confusion_matrix(y_test, y_pred)\n",
        "acc_score_SVM_rbf = accuracy_score(y_test, y_pred)"
      ],
      "execution_count": 46,
      "outputs": []
    },
    {
      "cell_type": "markdown",
      "metadata": {
        "id": "6-OyYRvnabLP"
      },
      "source": [
        "# Naive Bayes"
      ]
    },
    {
      "cell_type": "code",
      "metadata": {
        "id": "sIh-zwQFafPq"
      },
      "source": [
        "from sklearn.naive_bayes import GaussianNB\n",
        " \n",
        "classifier_Bayes = GaussianNB()\n",
        "classifier_Bayes.fit(X_train, y_train)\n",
        "y_pred = classifier_Bayes.predict(X_test)\n",
        "cm_Bayes = confusion_matrix(y_test, y_pred)\n",
        "acc_score_bayes = accuracy_score(y_test, y_pred)"
      ],
      "execution_count": 47,
      "outputs": []
    },
    {
      "cell_type": "markdown",
      "metadata": {
        "id": "pwGiqJGbbK0L"
      },
      "source": [
        "# Decision Tree"
      ]
    },
    {
      "cell_type": "code",
      "metadata": {
        "id": "U384lkCxbNPT"
      },
      "source": [
        "from sklearn.tree import DecisionTreeClassifier\n",
        "\n",
        "classifier_tree = DecisionTreeClassifier(criterion = 'entropy')\n",
        "classifier_tree.fit(X_train, y_train)\n",
        "y_pred = classifier_tree.predict(X_test)\n",
        "cm_tree = confusion_matrix(y_test, y_pred)\n",
        "acc_score_tree = accuracy_score(y_test, y_pred)"
      ],
      "execution_count": 48,
      "outputs": []
    },
    {
      "cell_type": "markdown",
      "metadata": {
        "id": "eatiVKz6bPXj"
      },
      "source": [
        "# Random Forest"
      ]
    },
    {
      "cell_type": "code",
      "metadata": {
        "id": "SuWbqOdwbTMr"
      },
      "source": [
        "from sklearn.ensemble import RandomForestClassifier\n",
        " \n",
        "classifier_forest = RandomForestClassifier(n_estimators = 10, criterion = 'entropy')\n",
        "classifier_forest.fit(X_train, y_train)\n",
        "y_pred = classifier_forest.predict(X_test)\n",
        "cm_forest = confusion_matrix(y_test, y_pred)\n",
        "acc_score_forest = accuracy_score(y_test, y_pred)"
      ],
      "execution_count": 49,
      "outputs": []
    },
    {
      "cell_type": "markdown",
      "metadata": {
        "id": "leNHICBgbVW4"
      },
      "source": [
        "# Results"
      ]
    },
    {
      "cell_type": "code",
      "metadata": {
        "colab": {
          "base_uri": "https://localhost:8080/"
        },
        "id": "bnwGF9A7bXUD",
        "outputId": "c13ecdae-d2ea-4438-fd78-dc6ff6fa5031"
      },
      "source": [
        "print(f\"Score for Naive Bayes: {acc_score_bayes}% accuracy\")\n",
        "print(f\"Score for Decision Tree: {acc_score_tree}% accuracy\")\n",
        "print(f\"Score for Logistic Regression: {acc_score_log_reg}% accuracy\")\n",
        "print(f\"Score for K_NN: {acc_score_knn}% accuracy\")\n",
        "print(f\"Score for Forest: {acc_score_forest}% accuracy\")\n",
        "print(f\"Score for SVM linear: {acc_score_SVM_lin}% accuracy\")\n",
        "print(f\"Score for SVM kernel: {acc_score_SVM_rbf}% accuracy\")"
      ],
      "execution_count": 50,
      "outputs": [
        {
          "output_type": "stream",
          "text": [
            "Score for Naive Bayes: 0.875% accuracy\n",
            "Score for Decision Tree: 0.8625% accuracy\n",
            "Score for Logistic Regression: 0.775% accuracy\n",
            "Score for K_NN: 0.875% accuracy\n",
            "Score for Forest: 0.8875% accuracy\n",
            "Score for SVM linear: 0.7875% accuracy\n",
            "Score for SVM kernel: 0.8625% accuracy\n"
          ],
          "name": "stdout"
        }
      ]
    },
    {
      "cell_type": "markdown",
      "metadata": {
        "id": "8e-TA4bQairq"
      },
      "source": [
        ""
      ]
    }
  ]
}